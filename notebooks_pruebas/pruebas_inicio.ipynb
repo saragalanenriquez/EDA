{
 "cells": [
  {
   "cell_type": "markdown",
   "metadata": {},
   "source": [
    "# Apuntes sobre de qué puedo hacer el proyecto:\n",
    "* Comparar si es más seguro invertir en una ETF o en una materia peima en concreto\n",
    "* Comparar los precios antes y durante la pandemia y en la gerra Rusia-Ucrania\n",
    "* Puedo analizar la correlación del valor del trigo como ejemplo de materia prima con el GDP/PPP"
   ]
  },
  {
   "cell_type": "markdown",
   "metadata": {},
   "source": [
    "La Organización Mundial de la Salud (OMS) la declaró una emergencia de salud pública de importancia internacional el 30 de enero de 2020 "
   ]
  },
  {
   "cell_type": "markdown",
   "metadata": {},
   "source": [
    "https://www.rtve.es/noticias/20220526/mapa-mundial-del-coronavirus/1998143.shtml"
   ]
  },
  {
   "cell_type": "markdown",
   "metadata": {},
   "source": [
    "Covid evolucion mundial: <iframe title=\"Curvas casos continentes\" aria-label=\"Interactive line chart\" id=\"datawrapper-chart-UWiYb\" src=\"https://datawrapper.dwcdn.net/UWiYb/55/\" scrolling=\"no\" frameborder=\"0\" style=\"width: 0; min-width: 100% !important; border: none;\" height=\"400\"></iframe><script type=\"text/javascript\">!function(){\"use strict\";window.addEventListener(\"message\",(function(e){if(void 0!==e.data[\"datawrapper-height\"]){var t=document.querySelectorAll(\"iframe\");for(var a in e.data[\"datawrapper-height\"])for(var r=0;r<t.length;r++){if(t[r].contentWindow===e.source)t[r].style.height=e.data[\"datawrapper-height\"][a]+\"px\"}}}))}();</script>"
   ]
  },
  {
   "cell_type": "markdown",
   "metadata": {},
   "source": [
    "Invasión rusa de Ucrania de 2022:\n",
    "La invasión rusa de Ucranianota 7​ es un episodio bélico en curso a gran escala que empezó el 24 de febrero de 2022 y forma parte de la guerra ruso-ucraniana comenzada en 2014.\n",
    "Desde el 28 de febrero se entablaron negociaciones de paz entre Rusia y Ucrania, pero a finales de abril se estancaron.\n",
    "https://es.wikipedia.org/wiki/Invasi%C3%B3n_rusa_de_Ucrania_de_2022\n"
   ]
  },
  {
   "cell_type": "markdown",
   "metadata": {},
   "source": [
    "¿Cómo se mide la riqueza del mundo?\n",
    "La medida más conocida es el producto interno bruto (PIB): el valor monetario de los bienes y servicios que una economía produce en un periodo determinado"
   ]
  },
  {
   "cell_type": "markdown",
   "metadata": {},
   "source": [
    "El PIB / PPA o GDP / PPP, es el valor de compra de todos los bienes y servicios en la moneda de un país en comparación a la de otro país, tomándose globalmente a EEUU de referencia, por ser el dólar la principal moneda de intercambio internacional."
   ]
  },
  {
   "cell_type": "markdown",
   "metadata": {},
   "source": [
    "¿Cuál es la diferencia entre PIB nominal y PIB PPA?\n",
    "Suele decirse que el PIB PPA da una imagen más real y fiel de lo que es la situación de un país, ya que muestra la capacidad de compra con las que cuentan los ciudadanos del mismo y no se basa simplemente en los ingresos nominales de las personas como hace el nominal."
   ]
  },
  {
   "cell_type": "markdown",
   "metadata": {},
   "source": [
    "¿Cómo se calcula el PIB per cápita PPA?\n",
    "Para realizar el cálculo de la PPA absoluta, se divide el costo de un bien en una moneda, entre el costo del mismo bien en otra moneda. Su resultado mostrará la diferencia en la capacidad adquisitiva. PPA = Coste del bien X en la moneda 1 / Coste del bien X en la moneda 2."
   ]
  },
  {
   "cell_type": "markdown",
   "metadata": {},
   "source": [
    "¿Cómo calcular paridad entre monedas?\n",
    "Si “a” es el monto de dinero que se tiene en una divisa y “b” es la tasa de conversión, entonces “c” será el monto de dinero que se tendrá por la paridad cambiaria. De esta manera: a * b = c, por lo cual a = c / b."
   ]
  },
  {
   "cell_type": "markdown",
   "metadata": {},
   "source": [
    "GDP (PPP) means gross domestic product based on purchasing power parity. This article includes a list of countries by their forecast estimated GDP (PPP). Countries are sorted by GDP (PPP) forecast estimates from financial and statistical institutions that calculate using market or government official exchange rates."
   ]
  },
  {
   "cell_type": "markdown",
   "metadata": {},
   "source": [
    "\n",
    "Este indicador proporciona los valores del producto interior bruto (PIB) expresados en dólares internacionales corrientes, convertidos por el factor de conversión de la paridad del poder adquisitivo (PPA). El PIB es la suma del valor bruto añadido por todos los productores residentes en el país más los impuestos sobre los productos y menos las subvenciones no incluidas en el valor de los productos. El factor de conversión de la PPA es un deflactor espacial de precios y un convertidor de divisas que elimina los efectos de las diferencias en los niveles de precios entre países. A partir de abril de 2020, \"PIB: series vinculadas (LCU actual)\" [NY.GDP.MKTP.CN.AD] se utiliza como PIB subyacente en unidad monetaria local para que esté en consonancia con las series temporales de factores de conversión de PPA para el PIB, que se extrapolan con deflactores del PIB vinculados.\n",
    "Fuente Programa de Comparación Internacional, Banco Mundial | Base de datos de Indicadores de Desarrollo Mundial, Banco Mundial | Programa de PPA de Eurostat-OCDE.\n",
    "Tema Política económica y deuda: Paridad de poder adquisitivo\n",
    "Periodicidad Anual\n",
    "Método de agregación Total de la brecha\n",
    "Concepto estadístico y metodología Normalmente, los países de mayor renta tienen niveles de precios más altos, mientras que los de menor renta tienen niveles de precios más bajos (efecto Balassa-Samuelson). Las comparaciones entre países basadas en el tipo de cambio del mercado del PIB en sus componentes de gasto reflejan tanto las diferencias en la producción económica (volúmenes) como en los precios. Dadas las diferencias en los niveles de precios, el tamaño de los países de mayor renta está inflado, mientras que el tamaño de los países de menor renta está deprimido en la comparación. Las comparaciones entre países basadas en la PPA del PIB en sus componentes de gasto sólo reflejan las diferencias en la producción económica (volumen), ya que las PPA controlan las diferencias de nivel de precios entre los países. Por lo tanto, la comparación refleja el tamaño real de los países. Para más información sobre el PIB subyacente en moneda local, consulte los metadatos de \"GDP: linked series (current LCU)\" [NY.GDP.MKTP.CN.AD]. Para más información sobre el factor de conversión PPA subyacente, consulte los metadatos de \"Factor de conversión PPA, PIB (LCU por $ internacional)\" [PA.NUS.PPP]. Para conocer el concepto y la metodología de la PPA, consulte el sitio web del Programa de Comparación Internacional (PCI) (https://www.worldbank.org/en/programs/icp).\n",
    "Licencia URL https://datacatalog.worldbank.org/public-licenses#cc-by\n",
    "\n",
    "Traducción realizada con la versión gratuita del traductor www.DeepL.com/Translator"
   ]
  },
  {
   "cell_type": "markdown",
   "metadata": {},
   "source": [
    "### Sitios donde coger info:\n",
    "* Yahoo finance (de aquí lo que saque directamente desde este notebook, ticker ZW=F, ETF de CHICAGO SRW WHEAT FUTURES(CME Group Inc. (Chicago Mercantile Exchange y Chicago Board of Trade) es una compañía estadounidense de mercados financieros que opera una bolsa de opciones y futuros. Posee y opera grandes mercados de futuros y de derivados en Chicago: (https://es.wikipedia.org/wiki/CME_Group) (https://www.cmegroup.com/markets/agriculture/grains/wheat.quotes.html#))) \n",
    "* Kaggle (de aquí nada todavía)\n",
    "* THE WORLD BANK (Aqui puedo sacar el GDP/PPP o el indicador que sea, link: https://databank.worldbank.org/reports.aspx?source=world-development-indicators#)"
   ]
  },
  {
   "cell_type": "markdown",
   "metadata": {},
   "source": [
    "Instalo Pandas datareader"
   ]
  },
  {
   "cell_type": "code",
   "execution_count": 1,
   "metadata": {},
   "outputs": [
    {
     "name": "stdout",
     "output_type": "stream",
     "text": [
      "Requirement already satisfied: pandas-datareader in c:\\users\\sarit\\appdata\\local\\programs\\python\\python37\\lib\\site-packages (0.10.0)\n",
      "Requirement already satisfied: requests>=2.19.0 in c:\\users\\sarit\\appdata\\local\\programs\\python\\python37\\lib\\site-packages (from pandas-datareader) (2.27.1)\n",
      "Requirement already satisfied: lxml in c:\\users\\sarit\\appdata\\local\\programs\\python\\python37\\lib\\site-packages (from pandas-datareader) (4.8.0)\n",
      "Requirement already satisfied: pandas>=0.23 in c:\\users\\sarit\\appdata\\local\\programs\\python\\python37\\lib\\site-packages (from pandas-datareader) (1.3.5)\n",
      "Requirement already satisfied: python-dateutil>=2.7.3 in c:\\users\\sarit\\appdata\\local\\programs\\python\\python37\\lib\\site-packages (from pandas>=0.23->pandas-datareader) (2.8.2)\n",
      "Requirement already satisfied: pytz>=2017.3 in c:\\users\\sarit\\appdata\\local\\programs\\python\\python37\\lib\\site-packages (from pandas>=0.23->pandas-datareader) (2022.1)\n",
      "Requirement already satisfied: numpy>=1.17.3 in c:\\users\\sarit\\appdata\\local\\programs\\python\\python37\\lib\\site-packages (from pandas>=0.23->pandas-datareader) (1.21.6)\n",
      "Requirement already satisfied: urllib3<1.27,>=1.21.1 in c:\\users\\sarit\\appdata\\local\\programs\\python\\python37\\lib\\site-packages (from requests>=2.19.0->pandas-datareader) (1.26.9)\n",
      "Requirement already satisfied: charset-normalizer~=2.0.0 in c:\\users\\sarit\\appdata\\local\\programs\\python\\python37\\lib\\site-packages (from requests>=2.19.0->pandas-datareader) (2.0.12)\n",
      "Requirement already satisfied: certifi>=2017.4.17 in c:\\users\\sarit\\appdata\\local\\programs\\python\\python37\\lib\\site-packages (from requests>=2.19.0->pandas-datareader) (2022.5.18)\n",
      "Requirement already satisfied: idna<4,>=2.5 in c:\\users\\sarit\\appdata\\local\\programs\\python\\python37\\lib\\site-packages (from requests>=2.19.0->pandas-datareader) (3.3)\n",
      "Requirement already satisfied: six>=1.5 in c:\\users\\sarit\\appdata\\local\\programs\\python\\python37\\lib\\site-packages (from python-dateutil>=2.7.3->pandas>=0.23->pandas-datareader) (1.16.0)\n"
     ]
    }
   ],
   "source": [
    "!pip install pandas-datareader"
   ]
  },
  {
   "cell_type": "markdown",
   "metadata": {},
   "source": [
    "Importo todas las librerias"
   ]
  },
  {
   "cell_type": "code",
   "execution_count": 2,
   "metadata": {},
   "outputs": [],
   "source": [
    "import pandas_datareader.data as web\n",
    "import pandas\n",
    "import matplotlib\n",
    "import pandas as pd\n",
    "import numpy as np\n",
    "import datetime as dt\n"
   ]
  },
  {
   "cell_type": "markdown",
   "metadata": {},
   "source": [
    "start = dt.datetime(2010, 1, 29)\n",
    "end = dt.datetime.today()\n",
    "actions = web.DataReader('ZW=F', 'yahoo-actions', start, end)\n"
   ]
  },
  {
   "cell_type": "markdown",
   "metadata": {},
   "source": [
    "DataFrame de los futuros del trigo"
   ]
  },
  {
   "cell_type": "code",
   "execution_count": 3,
   "metadata": {},
   "outputs": [
    {
     "data": {
      "text/html": [
       "<div>\n",
       "<style scoped>\n",
       "    .dataframe tbody tr th:only-of-type {\n",
       "        vertical-align: middle;\n",
       "    }\n",
       "\n",
       "    .dataframe tbody tr th {\n",
       "        vertical-align: top;\n",
       "    }\n",
       "\n",
       "    .dataframe thead th {\n",
       "        text-align: right;\n",
       "    }\n",
       "</style>\n",
       "<table border=\"1\" class=\"dataframe\">\n",
       "  <thead>\n",
       "    <tr style=\"text-align: right;\">\n",
       "      <th></th>\n",
       "      <th>High</th>\n",
       "      <th>Low</th>\n",
       "      <th>Open</th>\n",
       "      <th>Close</th>\n",
       "      <th>Volume</th>\n",
       "      <th>Adj Close</th>\n",
       "    </tr>\n",
       "    <tr>\n",
       "      <th>Date</th>\n",
       "      <th></th>\n",
       "      <th></th>\n",
       "      <th></th>\n",
       "      <th></th>\n",
       "      <th></th>\n",
       "      <th></th>\n",
       "    </tr>\n",
       "  </thead>\n",
       "  <tbody>\n",
       "    <tr>\n",
       "      <th>2017-05-01</th>\n",
       "      <td>442.75</td>\n",
       "      <td>423.75</td>\n",
       "      <td>423.75</td>\n",
       "      <td>442.75</td>\n",
       "      <td>1080.0</td>\n",
       "      <td>442.75</td>\n",
       "    </tr>\n",
       "    <tr>\n",
       "      <th>2017-05-02</th>\n",
       "      <td>450.75</td>\n",
       "      <td>440.00</td>\n",
       "      <td>445.75</td>\n",
       "      <td>441.50</td>\n",
       "      <td>233.0</td>\n",
       "      <td>441.50</td>\n",
       "    </tr>\n",
       "    <tr>\n",
       "      <th>2017-05-03</th>\n",
       "      <td>443.00</td>\n",
       "      <td>440.00</td>\n",
       "      <td>442.00</td>\n",
       "      <td>443.00</td>\n",
       "      <td>602.0</td>\n",
       "      <td>443.00</td>\n",
       "    </tr>\n",
       "    <tr>\n",
       "      <th>2017-05-04</th>\n",
       "      <td>442.00</td>\n",
       "      <td>425.75</td>\n",
       "      <td>442.00</td>\n",
       "      <td>426.00</td>\n",
       "      <td>351.0</td>\n",
       "      <td>426.00</td>\n",
       "    </tr>\n",
       "    <tr>\n",
       "      <th>2017-05-05</th>\n",
       "      <td>428.00</td>\n",
       "      <td>427.50</td>\n",
       "      <td>428.00</td>\n",
       "      <td>427.50</td>\n",
       "      <td>9.0</td>\n",
       "      <td>427.50</td>\n",
       "    </tr>\n",
       "  </tbody>\n",
       "</table>\n",
       "</div>"
      ],
      "text/plain": [
       "              High     Low    Open   Close  Volume  Adj Close\n",
       "Date                                                         \n",
       "2017-05-01  442.75  423.75  423.75  442.75  1080.0     442.75\n",
       "2017-05-02  450.75  440.00  445.75  441.50   233.0     441.50\n",
       "2017-05-03  443.00  440.00  442.00  443.00   602.0     443.00\n",
       "2017-05-04  442.00  425.75  442.00  426.00   351.0     426.00\n",
       "2017-05-05  428.00  427.50  428.00  427.50     9.0     427.50"
      ]
     },
     "execution_count": 3,
     "metadata": {},
     "output_type": "execute_result"
    }
   ],
   "source": [
    "wheat= web.DataReader('ZW=F', 'yahoo', '2017-04-30', '2022-04-30')\n",
    "wheat.head()"
   ]
  },
  {
   "cell_type": "markdown",
   "metadata": {},
   "source": [
    "https://www.statista.com/statistics/268750/global-gross-domestic-product-gdp/\n",
    "\n",
    "\n",
    "Fecha de publicación 4 de enero de 2022 en statista"
   ]
  },
  {
   "cell_type": "code",
   "execution_count": 47,
   "metadata": {},
   "outputs": [
    {
     "data": {
      "text/plain": [
       "\"globalGDP={'Year': [2016, 2017, 2018, 2019, 2020, 2021, 2022],\\n            'Value': [75153.75, 80823.16, 85883.45, 87390.79, 84971.65, 94935.11, 102404.01]}\""
      ]
     },
     "execution_count": 47,
     "metadata": {},
     "output_type": "execute_result"
    }
   ],
   "source": [
    "#In million US dollars\n",
    "\n",
    "globalGDP={2016: 75153.75,\n",
    "    2017: 80823.16,\n",
    "    2018: 85883.45, \n",
    "    2019: 87390.79,\n",
    "    2020: 84971.65,\n",
    "    2021: 94935.11,\n",
    "    2022: 102404.01}\n",
    "\n",
    "\n",
    "'''globalGDP={'Year': [2016, 2017, 2018, 2019, 2020, 2021, 2022],\n",
    "            'Value': [75153.75, 80823.16, 85883.45, 87390.79, 84971.65, 94935.11, 102404.01]}'''"
   ]
  },
  {
   "cell_type": "markdown",
   "metadata": {},
   "source": [
    "https://www.statista.com/statistics/270267/united-states-share-of-global-gross-domestic-product-gdp/\n",
    "\n",
    "\n",
    "Fecha de publicacion 23 Noviembre 2021 en statista"
   ]
  },
  {
   "cell_type": "code",
   "execution_count": 46,
   "metadata": {},
   "outputs": [
    {
     "data": {
      "text/plain": [
       "\"share_DGP_PPP={'Year': [2016, 2017, 2018, 2019, 2020, 2021, 2022],\\n                'Value': [0.1617, 0.16, 0.1591, 0.1584, 0.1583, 0.1586, 0.1591]}\""
      ]
     },
     "execution_count": 46,
     "metadata": {},
     "output_type": "execute_result"
    }
   ],
   "source": [
    "# IN Share of global GDP\n",
    "# Esto es el United States' share of global gross domestic product (GDP) adjusted for purchasing power parity (PPP)\n",
    "share_GDP_PPP={2016: '16.17%',\n",
    "    2017: '16%',\n",
    "    2018: '15.91%', \n",
    "    2019: '15.84%',\n",
    "    2020: '15.83%',\n",
    "    2021: '15.86%',\n",
    "    2022: '15.91%'}\n",
    "\n",
    "\n",
    "'''share_DGP_PPP={'Year': [2016, 2017, 2018, 2019, 2020, 2021, 2022],\n",
    "                'Value': [0.1617, 0.16, 0.1591, 0.1584, 0.1583, 0.1586, 0.1591]}'''"
   ]
  },
  {
   "cell_type": "code",
   "execution_count": 48,
   "metadata": {},
   "outputs": [
    {
     "data": {
      "text/html": [
       "<div>\n",
       "<style scoped>\n",
       "    .dataframe tbody tr th:only-of-type {\n",
       "        vertical-align: middle;\n",
       "    }\n",
       "\n",
       "    .dataframe tbody tr th {\n",
       "        vertical-align: top;\n",
       "    }\n",
       "\n",
       "    .dataframe thead th {\n",
       "        text-align: right;\n",
       "    }\n",
       "</style>\n",
       "<table border=\"1\" class=\"dataframe\">\n",
       "  <thead>\n",
       "    <tr style=\"text-align: right;\">\n",
       "      <th></th>\n",
       "      <th>global_GDP</th>\n",
       "    </tr>\n",
       "  </thead>\n",
       "  <tbody>\n",
       "    <tr>\n",
       "      <th>2016</th>\n",
       "      <td>75153.75</td>\n",
       "    </tr>\n",
       "    <tr>\n",
       "      <th>2017</th>\n",
       "      <td>80823.16</td>\n",
       "    </tr>\n",
       "    <tr>\n",
       "      <th>2018</th>\n",
       "      <td>85883.45</td>\n",
       "    </tr>\n",
       "    <tr>\n",
       "      <th>2019</th>\n",
       "      <td>87390.79</td>\n",
       "    </tr>\n",
       "    <tr>\n",
       "      <th>2020</th>\n",
       "      <td>84971.65</td>\n",
       "    </tr>\n",
       "    <tr>\n",
       "      <th>2021</th>\n",
       "      <td>94935.11</td>\n",
       "    </tr>\n",
       "    <tr>\n",
       "      <th>2022</th>\n",
       "      <td>102404.01</td>\n",
       "    </tr>\n",
       "  </tbody>\n",
       "</table>\n",
       "</div>"
      ],
      "text/plain": [
       "      global_GDP\n",
       "2016    75153.75\n",
       "2017    80823.16\n",
       "2018    85883.45\n",
       "2019    87390.79\n",
       "2020    84971.65\n",
       "2021    94935.11\n",
       "2022   102404.01"
      ]
     },
     "execution_count": 48,
     "metadata": {},
     "output_type": "execute_result"
    }
   ],
   "source": [
    "df_share=pd.DataFrame({'global_GDP':globalGDP})\n",
    "df_share"
   ]
  },
  {
   "cell_type": "code",
   "execution_count": 44,
   "metadata": {},
   "outputs": [
    {
     "data": {
      "text/html": [
       "<div>\n",
       "<style scoped>\n",
       "    .dataframe tbody tr th:only-of-type {\n",
       "        vertical-align: middle;\n",
       "    }\n",
       "\n",
       "    .dataframe tbody tr th {\n",
       "        vertical-align: top;\n",
       "    }\n",
       "\n",
       "    .dataframe thead th {\n",
       "        text-align: right;\n",
       "    }\n",
       "</style>\n",
       "<table border=\"1\" class=\"dataframe\">\n",
       "  <thead>\n",
       "    <tr style=\"text-align: right;\">\n",
       "      <th></th>\n",
       "      <th>share_GDP_PPP</th>\n",
       "    </tr>\n",
       "  </thead>\n",
       "  <tbody>\n",
       "    <tr>\n",
       "      <th>2016</th>\n",
       "      <td>16.17%</td>\n",
       "    </tr>\n",
       "    <tr>\n",
       "      <th>2017</th>\n",
       "      <td>16%</td>\n",
       "    </tr>\n",
       "    <tr>\n",
       "      <th>2018</th>\n",
       "      <td>15.91%</td>\n",
       "    </tr>\n",
       "    <tr>\n",
       "      <th>2019</th>\n",
       "      <td>15.84%</td>\n",
       "    </tr>\n",
       "    <tr>\n",
       "      <th>2020</th>\n",
       "      <td>15.83%</td>\n",
       "    </tr>\n",
       "    <tr>\n",
       "      <th>2021</th>\n",
       "      <td>15.86%</td>\n",
       "    </tr>\n",
       "    <tr>\n",
       "      <th>2022</th>\n",
       "      <td>15.91%</td>\n",
       "    </tr>\n",
       "  </tbody>\n",
       "</table>\n",
       "</div>"
      ],
      "text/plain": [
       "     share_GDP_PPP\n",
       "2016        16.17%\n",
       "2017           16%\n",
       "2018        15.91%\n",
       "2019        15.84%\n",
       "2020        15.83%\n",
       "2021        15.86%\n",
       "2022        15.91%"
      ]
     },
     "execution_count": 44,
     "metadata": {},
     "output_type": "execute_result"
    }
   ],
   "source": [
    "df_share=pd.DataFrame({'share_GDP_PPP':share_GDP_PPP})\n",
    "df_share\n",
    "\n"
   ]
  },
  {
   "cell_type": "code",
   "execution_count": 50,
   "metadata": {},
   "outputs": [
    {
     "data": {
      "text/html": [
       "<div>\n",
       "<style scoped>\n",
       "    .dataframe tbody tr th:only-of-type {\n",
       "        vertical-align: middle;\n",
       "    }\n",
       "\n",
       "    .dataframe tbody tr th {\n",
       "        vertical-align: top;\n",
       "    }\n",
       "\n",
       "    .dataframe thead th {\n",
       "        text-align: right;\n",
       "    }\n",
       "</style>\n",
       "<table border=\"1\" class=\"dataframe\">\n",
       "  <thead>\n",
       "    <tr style=\"text-align: right;\">\n",
       "      <th></th>\n",
       "      <th>global_GDP</th>\n",
       "      <th>share_GDP_PPP</th>\n",
       "    </tr>\n",
       "  </thead>\n",
       "  <tbody>\n",
       "    <tr>\n",
       "      <th>2016</th>\n",
       "      <td>75153.75</td>\n",
       "      <td>16.17%</td>\n",
       "    </tr>\n",
       "    <tr>\n",
       "      <th>2017</th>\n",
       "      <td>80823.16</td>\n",
       "      <td>16%</td>\n",
       "    </tr>\n",
       "    <tr>\n",
       "      <th>2018</th>\n",
       "      <td>85883.45</td>\n",
       "      <td>15.91%</td>\n",
       "    </tr>\n",
       "    <tr>\n",
       "      <th>2019</th>\n",
       "      <td>87390.79</td>\n",
       "      <td>15.84%</td>\n",
       "    </tr>\n",
       "    <tr>\n",
       "      <th>2020</th>\n",
       "      <td>84971.65</td>\n",
       "      <td>15.83%</td>\n",
       "    </tr>\n",
       "    <tr>\n",
       "      <th>2021</th>\n",
       "      <td>94935.11</td>\n",
       "      <td>15.86%</td>\n",
       "    </tr>\n",
       "    <tr>\n",
       "      <th>2022</th>\n",
       "      <td>102404.01</td>\n",
       "      <td>15.91%</td>\n",
       "    </tr>\n",
       "  </tbody>\n",
       "</table>\n",
       "</div>"
      ],
      "text/plain": [
       "      global_GDP share_GDP_PPP\n",
       "2016    75153.75        16.17%\n",
       "2017    80823.16           16%\n",
       "2018    85883.45        15.91%\n",
       "2019    87390.79        15.84%\n",
       "2020    84971.65        15.83%\n",
       "2021    94935.11        15.86%\n",
       "2022   102404.01        15.91%"
      ]
     },
     "execution_count": 50,
     "metadata": {},
     "output_type": "execute_result"
    }
   ],
   "source": [
    "data = pd.DataFrame({'global_GDP':globalGDP, 'share_GDP_PPP':share_GDP_PPP})\n",
    "data"
   ]
  }
 ],
 "metadata": {
  "interpreter": {
   "hash": "b7d1d648bc744a4685869e1fdb33ef13f4f0c14400aef2b69bba6937801b961d"
  },
  "kernelspec": {
   "display_name": "Python 3.7.4 64-bit",
   "language": "python",
   "name": "python3"
  },
  "language_info": {
   "codemirror_mode": {
    "name": "ipython",
    "version": 3
   },
   "file_extension": ".py",
   "mimetype": "text/x-python",
   "name": "python",
   "nbconvert_exporter": "python",
   "pygments_lexer": "ipython3",
   "version": "3.7.4"
  },
  "orig_nbformat": 4
 },
 "nbformat": 4,
 "nbformat_minor": 2
}
